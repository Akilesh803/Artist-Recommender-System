{
  "nbformat": 4,
  "nbformat_minor": 0,
  "metadata": {
    "kernelspec": {
      "name": "python3",
      "display_name": "Python 3.8.3 32-bit",
      "metadata": {
        "interpreter": {
          "hash": "042872cd2080ac6bd9f46c05f2d1ee31de7eb4059c3d3c828829e6c12296acfc"
        }
      }
    },
    "language_info": {
      "codemirror_mode": {
        "name": "ipython",
        "version": 2
      },
      "file_extension": ".py",
      "mimetype": "text/x-python",
      "name": "python",
      "nbconvert_exporter": "python",
      "pygments_lexer": "ipython2",
      "version": "3.8.3-final"
    },
    "colab": {
      "name": "Artist_recommendation_BDA.ipynb",
      "provenance": [],
      "collapsed_sections": [],
      "toc_visible": true
    }
  },
  "cells": [
    {
      "cell_type": "markdown",
      "metadata": {
        "id": "KD6y6b468GQT"
      },
      "source": [
        "# Music Artist Recommender System using Apache Spark and Python"
      ]
    },
    {
      "cell_type": "code",
      "metadata": {
        "colab": {
          "base_uri": "https://localhost:8080/"
        },
        "id": "rzjhs0Ru8e60",
        "outputId": "f574a260-4332-4eb3-ee32-a724dae14298"
      },
      "source": [
        "!pip install pyspark"
      ],
      "execution_count": 23,
      "outputs": [
        {
          "output_type": "stream",
          "text": [
            "Requirement already satisfied: pyspark in /usr/local/lib/python3.6/dist-packages (3.0.1)\n",
            "Requirement already satisfied: py4j==0.10.9 in /usr/local/lib/python3.6/dist-packages (from pyspark) (0.10.9)\n"
          ],
          "name": "stdout"
        }
      ]
    },
    {
      "cell_type": "code",
      "metadata": {
        "id": "BQW7yGmZ8GQU"
      },
      "source": [
        "from pyspark.mllib.recommendation import *\n",
        "from operator import *\n",
        "import random   #for randomsplit"
      ],
      "execution_count": 24,
      "outputs": []
    },
    {
      "cell_type": "code",
      "metadata": {
        "id": "49YD_tVg8GQV"
      },
      "source": [
        "from pyspark import SparkContext\n",
        "sc =SparkContext()"
      ],
      "execution_count": 25,
      "outputs": []
    },
    {
      "cell_type": "code",
      "metadata": {
        "id": "hbIX9i8k8GQZ"
      },
      "source": [
        "artist_data=sc.textFile(\"artist_data_small.txt\") #Load datasets into rdd\n",
        "artist_alias=sc.textFile(\"artist_alias_small.txt\")\n",
        "user_artist_userdata=sc.textFile(\"user_artist_data_small.txt\")\n",
        "artist_dict={}\n",
        "\n",
        "def splitbyspace(x):\n",
        "    data = x.split(' ')\n",
        "    tuple = (int(data[0]),artist_dict.get(int(data[1]),int(data[1])),int(data[2]))\n",
        "    return tuple\n",
        "\n",
        "def splitbytab(x):       #used for 2 files artist_data and artist_alias\n",
        "    data=x.split(\"\\t\")\n",
        "    if data[1].isnumeric()==True:   #for artist_alias\n",
        "        tuple=(int(data[0]),int(data[1]))\n",
        "        artist_dict[int(data[0])]=int(data[1])\n",
        "    else:                           #for artist_data\n",
        "        tuple=(int(data[0]),data[1])\n",
        "    return tuple\n",
        "\n",
        "\n",
        "artist_data=artist_data.map(splitbytab) #map all rows and store\n",
        "artist_alias=artist_alias.map(splitbytab)\n",
        "user_artist_userdata=user_artist_userdata.map(splitbyspace)"
      ],
      "execution_count": 26,
      "outputs": []
    },
    {
      "cell_type": "code",
      "metadata": {
        "colab": {
          "base_uri": "https://localhost:8080/"
        },
        "id": "4L8daBMl8GQa",
        "outputId": "a05d7a75-08b6-4289-92f1-03cb081e2835"
      },
      "source": [
        "train_data, validation_data, test_data = user_artist_userdata.randomSplit([40,40,20],13)  #under pyspark lib 13-seed initial number to start the split\n",
        "train_data.cache()\n",
        "test_data.cache()\n",
        "validation_data.cache()\n"
      ],
      "execution_count": 27,
      "outputs": [
        {
          "output_type": "execute_result",
          "data": {
            "text/plain": [
              "PythonRDD[8] at RDD at PythonRDD.scala:53"
            ]
          },
          "metadata": {
            "tags": []
          },
          "execution_count": 27
        }
      ]
    },
    {
      "cell_type": "code",
      "metadata": {
        "id": "PMHyUdbnpAil",
        "colab": {
          "base_uri": "https://localhost:8080/"
        },
        "outputId": "53a4a930-d1fa-4bc9-e4a1-6df8820874f8"
      },
      "source": [
        "def mod(data):\n",
        "    return data.map(lambda x:(x[0],x[1])).groupByKey().map(lambda x:(x[0],list(x[1]))).collect()    #collects all users and artists \n",
        "\n",
        "def modelEval(model, data):     #Model Evaluation by fine tuning parameters\n",
        "    trainDataMod=mod(train_data)\n",
        "    trainDataDict={}\n",
        "    for user,artist in trainDataMod:\n",
        "        trainDataDict[user]=set(artist) #maps user with set of artists in training set\n",
        "    \n",
        "    train_artists= train_data.map(lambda x:x[1]).collect() #list of all artists in training set\n",
        "    \n",
        "    predDataMod=mod(data) # for validation set/testing set\n",
        "    predDataDict={}\n",
        "    for user,artist in predDataMod:\n",
        "        predDataDict[user]=set(artist)  #maps user with set of artists in validation/testing set\n",
        "    \n",
        "    score=0.0   #calculate hit ratio\n",
        "    \n",
        "    for user in predDataDict.keys():    # to calculate hit ratio for each user\n",
        "        trueArtists = set(train_artists) - trainDataDict[user] #set of artists not in this user's liked artists list\n",
        "        X = len(predDataDict[user] - trainDataDict[user])   #obtain artists actually liked by user\n",
        "        uArtists = [(user,artist) for artist in trueArtists]\n",
        "        uArtists = sc.parallelize(uArtists)\n",
        "        \n",
        "        prediction = model.predictAll(uArtists) #predict artists for this user\n",
        "        prediction = prediction.sortBy(lambda y:y[2], ascending = False).map(lambda y:y[1]).take(X)\n",
        "        common = set(prediction).intersection(predDataDict[user]) #list of artists predicted as liked by user\n",
        "        score += len(common)/float(X)\n",
        "    \n",
        "    score = score/float(len(predDataDict))  #return average of hit ratios\n",
        "     \n",
        "    return score\n",
        "\n",
        "    \n",
        "def buildModel(rank):\n",
        "    return ALS.trainImplicit(train_data, rank, seed=345)\n",
        "\n",
        "for i in [1,2,10,11,20,21]: #determine best rank parameter by training for each\n",
        "    print (\"The model score for rank \" + str(i) + \" is \" + str(modelEval(buildModel(i),validation_data)))"
      ],
      "execution_count": 29,
      "outputs": [
        {
          "output_type": "stream",
          "text": [
            "The model score for rank 1 is 0.07625230985976236\n",
            "The model score for rank 2 is 0.08616827592156559\n",
            "The model score for rank 10 is 0.09441971719854263\n",
            "The model score for rank 11 is 0.0877200294686427\n",
            "The model score for rank 20 is 0.08408995233356337\n",
            "The model score for rank 21 is 0.08181984026379828\n"
          ],
          "name": "stdout"
        }
      ]
    },
    {
      "cell_type": "code",
      "metadata": {
        "colab": {
          "base_uri": "https://localhost:8080/"
        },
        "id": "NkecDJRh8GQb",
        "outputId": "8d7b6b2e-a0ef-4df1-85a4-ea86ad704edb"
      },
      "source": [
        "model1 = ALS.trainImplicit(train_data, rank=10, seed=345) #setting the best paramater value and train the model\n",
        "modelEval(model1, test_data)    #score for test set"
      ],
      "execution_count": 30,
      "outputs": [
        {
          "output_type": "execute_result",
          "data": {
            "text/plain": [
              "0.0638164944176245"
            ]
          },
          "metadata": {
            "tags": []
          },
          "execution_count": 30
        }
      ]
    },
    {
      "cell_type": "code",
      "metadata": {
        "id": "gJ-d9g2k8GQc",
        "colab": {
          "base_uri": "https://localhost:8080/"
        },
        "outputId": "f5b85d7f-1d3d-4d26-d9f1-125d6f208954"
      },
      "source": [
        "recommend = model1.recommendProducts(1059245, 5)    #function in pyspark.mllib.recommedation library\n",
        "artist_list = map(lambda x:x[1], recommend) #returning artist name\n",
        "flag=1\n",
        "for artist in artist_list:\n",
        "    for (i,j) in artist_data.collect():\n",
        "        if i == artist:\n",
        "            print (\"Artist \" + str(flag) + \": \" + str(j))\n",
        "            flag+=1\n",
        "            break\n",
        "\n"
      ],
      "execution_count": 32,
      "outputs": [
        {
          "output_type": "stream",
          "text": [
            "Artist 1: Franz Ferdinand\n",
            "Artist 2: Syrup16g\n",
            "Artist 3: Rage Against the Machine\n",
            "Artist 4: Pet Shop Boys\n",
            "Artist 5: ゆらゆら帝国\n"
          ],
          "name": "stdout"
        }
      ]
    },
    {
      "cell_type": "code",
      "metadata": {
        "id": "D760cAxe8GQd"
      },
      "source": [
        "sc.stop()"
      ],
      "execution_count": null,
      "outputs": []
    }
  ]
}